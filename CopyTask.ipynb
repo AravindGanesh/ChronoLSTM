{
 "cells": [
  {
   "cell_type": "markdown",
   "metadata": {},
   "source": [
    "# Can Recurrent Neural Networks Warp Time?"
   ]
  },
  {
   "cell_type": "markdown",
   "metadata": {},
   "source": [
    "> Note: **Python3** is used"
   ]
  },
  {
   "cell_type": "code",
   "execution_count": 1,
   "metadata": {},
   "outputs": [],
   "source": [
    "import numpy as np"
   ]
  },
  {
   "cell_type": "markdown",
   "metadata": {},
   "source": [
    "## The dataset "
   ]
  },
  {
   "cell_type": "code",
   "execution_count": 2,
   "metadata": {},
   "outputs": [
    {
     "name": "stdout",
     "output_type": "stream",
     "text": [
      "{'dummy': 0, 'signal': 1, 'chars': array([2, 3, 4, 5, 6, 7, 8, 9])} 3\n"
     ]
    }
   ],
   "source": [
    "alphabet = {'dummy': 0, 'signal':1, 'chars':np.arange(2,10)}\n",
    "print(alphabet, len(alphabet))"
   ]
  },
  {
   "cell_type": "code",
   "execution_count": 3,
   "metadata": {},
   "outputs": [],
   "source": [
    "def onehot(Y, classes, num_classes=9):\n",
    "    #z = np.zeros((num_classes, *Y.shape))\n",
    "    z = np.array([Y==i for i in classes])\n",
    "    return np.transpose(z, [1,2,0]).astype(np.float)\n",
    "\n",
    "def dataset(N,T, alphabet):\n",
    "    in_seq = np.random.choice(np.arange(2,10), size=(N,10), replace=True)\n",
    "    x = np.append(in_seq, np.zeros((N,T+10)), axis=1)\n",
    "    x[:, -11] = 1. # signal=1\n",
    "    y = np.zeros((N,T+20))\n",
    "    y[:, -10:] = in_seq\n",
    "    X = onehot(x, np.arange(10), 10)\n",
    "    Y = onehot(y, np.arange(10), 10)\n",
    "    return X,Y"
   ]
  },
  {
   "cell_type": "code",
   "execution_count": 4,
   "metadata": {},
   "outputs": [],
   "source": [
    "N = 50000 # number of training samples\n",
    "T = 500   # length of sequence=T+20\n",
    "m = 10    # number of alphabets"
   ]
  },
  {
   "cell_type": "code",
   "execution_count": 5,
   "metadata": {},
   "outputs": [],
   "source": [
    "x_train, y_train = dataset(N, T, alphabet)"
   ]
  },
  {
   "cell_type": "markdown",
   "metadata": {},
   "source": [
    "## The model"
   ]
  },
  {
   "cell_type": "code",
   "execution_count": 6,
   "metadata": {},
   "outputs": [],
   "source": [
    "from tensorflow.keras.layers import LSTM, Input\n",
    "from tensorflow.keras.models import Model\n",
    "from tensorflow.keras.initializers import RandomUniform\n",
    "from tensorflow.keras import backend as K"
   ]
  },
  {
   "cell_type": "markdown",
   "metadata": {},
   "source": [
    "### Chrono Initializer  "
   ]
  },
  {
   "cell_type": "code",
   "execution_count": 7,
   "metadata": {},
   "outputs": [],
   "source": [
    "# define a custom initializer in keras style\n",
    "class ChronoInitializer(RandomUniform):\n",
    "    def __init__(self, Tmax, seed=None):\n",
    "        super().__init__(minval=1, maxval=Tmax-1, seed=seed)\n",
    "        self.Tmax = Tmax\n",
    "        \n",
    "    def __call__(self, shape, dtype=None, partition_info=None):\n",
    "        bias = super().__call__(shape=shape, dtype=dtype, partition_info=None)\n",
    "        return K.log(bias)"
   ]
  },
  {
   "cell_type": "code",
   "execution_count": null,
   "metadata": {},
   "outputs": [],
   "source": [
    "# def chrono_initializer(shape, dtype=None):\n",
    "#     return K.random_normal(shape, dtype=dtype)"
   ]
  },
  {
   "cell_type": "code",
   "execution_count": 8,
   "metadata": {},
   "outputs": [],
   "source": [
    "T_max = 3*T/2\n",
    "chrono_init = ChronoInitializer(Tmax=T_max)"
   ]
  },
  {
   "cell_type": "code",
   "execution_count": 12,
   "metadata": {},
   "outputs": [],
   "source": [
    "# define the model\n",
    "inputs = Input(shape=(T+20,m))\n",
    "lstm = LSTM(units=128, unroll=True, use_bias=True, bias_initializer=chrono_init, implementation=2)\n",
    "outputs = lstm(inputs)\n",
    "model = Model(inputs=inputs, outputs=outputs)"
   ]
  },
  {
   "cell_type": "code",
   "execution_count": 13,
   "metadata": {},
   "outputs": [
    {
     "name": "stdout",
     "output_type": "stream",
     "text": [
      "_________________________________________________________________\n",
      "Layer (type)                 Output Shape              Param #   \n",
      "=================================================================\n",
      "input_4 (InputLayer)         (None, 520, 10)           0         \n",
      "_________________________________________________________________\n",
      "lstm_3 (LSTM)                (None, 128)               71168     \n",
      "=================================================================\n",
      "Total params: 71,168\n",
      "Trainable params: 71,168\n",
      "Non-trainable params: 0\n",
      "_________________________________________________________________\n"
     ]
    }
   ],
   "source": [
    "model.compile(loss='categorical_crossentropy', optimizer='RMSProp', metrics=['accuracy'])\n",
    "model.summary()"
   ]
  },
  {
   "cell_type": "code",
   "execution_count": null,
   "metadata": {},
   "outputs": [],
   "source": [
    "model.fit(x_train, y_train, epochs=30, validation_split=0.2)"
   ]
  }
 ],
 "metadata": {
  "kernelspec": {
   "display_name": "Python 3",
   "language": "python",
   "name": "python3"
  },
  "language_info": {
   "codemirror_mode": {
    "name": "ipython",
    "version": 3
   },
   "file_extension": ".py",
   "mimetype": "text/x-python",
   "name": "python",
   "nbconvert_exporter": "python",
   "pygments_lexer": "ipython3",
   "version": "3.6.7"
  }
 },
 "nbformat": 4,
 "nbformat_minor": 2
}
